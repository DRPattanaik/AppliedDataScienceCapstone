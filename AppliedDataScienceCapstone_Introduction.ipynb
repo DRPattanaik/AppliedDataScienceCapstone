{
 "cells": [
  {
   "cell_type": "markdown",
   "metadata": {},
   "source": [
    "# **Capstone Project - Battle of Neighborhoods**\n",
    "\n",
    "## **Introduction**\n",
    "\n",
    "The aim of this project is to group each neighborhood and find out top 10 venues corresponding to that neighborhood in Toronto.\n",
    "\n",
    "### **1. Problem Statement**"
   ]
  },
  {
   "cell_type": "markdown",
   "metadata": {},
   "source": [
    "Can we group each neighborhood and find out top 10 venues corresponding to that neighborhood in Toronto, in order to map offers/coupons based on neighborhood ?"
   ]
  },
  {
   "cell_type": "markdown",
   "metadata": {},
   "source": [
    "### **2. Problem Description**"
   ]
  },
  {
   "cell_type": "markdown",
   "metadata": {},
   "source": [
    "Many offers/coupons are rolled out by different businesses as a stategy to attract more customer base. But most of the offers are actually no used by customers, \n",
    "because they don't find it useful or those offers are irrerelvant in the neighborhood that they live in. For Example, In Berczy Park neighborhood, there are a lot of coffee shops but not many spa venues . So, for a customer residing in Berczy Park neighboorhood , coffee shop coupons/offers are more relevant than spa coupons."
   ]
  },
  {
   "cell_type": "markdown",
   "metadata": {},
   "source": [
    "### **3. Client Base who might be interested in this project**"
   ]
  },
  {
   "cell_type": "markdown",
   "metadata": {},
   "source": [
    "1. Financial Institutions in Toronto dealing with credit cards - This group of business can utilise this project as a basis to map their credit card offers to customers based on the residence neighborhood of the customer.\n",
    "\n",
    "2. Anyone planning to set up a new business in Toronto - This person/group can utilize this project to decide on the type of business they want to setup, the neighborhood where they can setup etcetera."
   ]
  },
  {
   "cell_type": "markdown",
   "metadata": {},
   "source": [
    "### **4. Analytic Approach**"
   ]
  },
  {
   "cell_type": "markdown",
   "metadata": {},
   "source": [
    "For achieving the gouping as stated in the problem statement, I can make use of k-means clustering. K -means clustering is a type of unsupervised learning, \n",
    "which is used when you have unlabeled data (i.e., data without defined categories or groups). The goal of this algorithm is to find groups in the data, \n",
    "with the number of groups represented by the variable K. The algorithm works iteratively to assign each data point to one of K groups based on the features that are provided.\n",
    "\n",
    "I will be using k-means clustering to group neighborhoods in Toronto and find out top 10 venues in each neighborhood."
   ]
  }
 ],
 "metadata": {
  "kernelspec": {
   "display_name": "Python 3",
   "language": "python",
   "name": "python3"
  },
  "language_info": {
   "codemirror_mode": {
    "name": "ipython",
    "version": 3
   },
   "file_extension": ".py",
   "mimetype": "text/x-python",
   "name": "python",
   "nbconvert_exporter": "python",
   "pygments_lexer": "ipython3",
   "version": "3.6.8"
  }
 },
 "nbformat": 4,
 "nbformat_minor": 2
}
