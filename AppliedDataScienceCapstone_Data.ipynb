{
 "cells": [
  {
   "cell_type": "markdown",
   "metadata": {},
   "source": [
    "### **NOTE** : I have excluded any code in this submission as I understand that the ask is only for description and no code. Code corresponding to data analysis will be included along with the complete code notebook that I will submit as part of Week-5 assignment 1.\n",
    "\n",
    "# **Capstone Project - Battle of Neighborhoods**\n",
    "\n",
    "## **Data**\n",
    "\n",
    "### **1. Data Requirements**"
   ]
  },
  {
   "cell_type": "markdown",
   "metadata": {},
   "source": [
    "For this project we will require the below mentioned data:\n",
    "\n",
    "1. **Neighborhood data of Toronto** - We will make use of wikipedia link 'https://en.wikipedia.org/wiki/List_of_postal_codes_of_Canada:_M' to get the neighborhood data required for this project.\n",
    "2. **Location data of each neighborhood in Toronto** - We will make use of Foursquare APIs to get location details of each neighborhood derived in step 1."
   ]
  },
  {
   "cell_type": "markdown",
   "metadata": {},
   "source": [
    "### **2. Data Collection**"
   ]
  },
  {
   "cell_type": "markdown",
   "metadata": {},
   "source": [
    "1. We will do a web scraping of 'https://en.wikipedia.org/wiki/List_of_postal_codes_of_Canada:_M' wikipedia link using BeautifulfulSoup python library \n",
    "to get the CANADA neighborhood mapped to PostalCode and Borough. \n",
    "2. We will filter only the Torornto Borough Data from the table of data collected in step 1 for this project.\n",
    "3. We will use foursquare API to get the location details corresponding to each neighborhood captured in step 2, something as mentioned below:\n",
    "        # create the API request URL\n",
    "        url = 'https://api.foursquare.com/v2/venues/explore?&client_id={}&client_secret={}&v={}&ll={},{}&radius={}&limit={}'.format(\n",
    "            CLIENT_ID, \n",
    "            CLIENT_SECRET, \n",
    "            VERSION, \n",
    "            lat, \n",
    "            lng, \n",
    "            radius, \n",
    "            LIMIT)\n",
    "            \n",
    "        # make the GET request\n",
    "        results = requests.get(url).json()[\"response\"]['groups'][0]['items']"
   ]
  },
  {
   "cell_type": "markdown",
   "metadata": {},
   "source": [
    "### **3. Data Understanding**"
   ]
  },
  {
   "cell_type": "markdown",
   "metadata": {},
   "source": [
    "For understanding the data collected in the Data collection stage, we will explore the data and do some analysis like:\n",
    "\n",
    "1. Explore the neighborhoods in Toronto\n",
    "2. Analyze each neighborhood.\n",
    "2. Explore the venues corresponding to any one of the neighborhood. \n",
    "    "
   ]
  },
  {
   "cell_type": "markdown",
   "metadata": {},
   "source": [
    "### **4. Data Preparation**"
   ]
  },
  {
   "cell_type": "markdown",
   "metadata": {},
   "source": [
    "This stage involves in exploring the data further and making sure that it is in the right format for k-means clustering\n",
    "that we selected in the analytic approach stage.\n",
    "\n",
    "1. If we see any gap in the data, the  we will go back to the data collection stage and collect any missing data.\n",
    "2. If we see that there are some erroneous data / extra unnecessary data, then we will filter and remove those data \n",
    "so as to prepare the final data which will be used in clustering.\n",
    "\n",
    "At the end of this stage, we should have the dataset ready to be fed into the clustering analysis."
   ]
  }
 ],
 "metadata": {
  "kernelspec": {
   "display_name": "Python 3",
   "language": "python",
   "name": "python3"
  },
  "language_info": {
   "codemirror_mode": {
    "name": "ipython",
    "version": 3
   },
   "file_extension": ".py",
   "mimetype": "text/x-python",
   "name": "python",
   "nbconvert_exporter": "python",
   "pygments_lexer": "ipython3",
   "version": "3.6.8"
  }
 },
 "nbformat": 4,
 "nbformat_minor": 2
}
